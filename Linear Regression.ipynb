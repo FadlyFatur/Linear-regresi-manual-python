{
 "cells": [
  {
   "cell_type": "code",
   "execution_count": 5,
   "id": "advised-function",
   "metadata": {},
   "outputs": [],
   "source": [
    "# Fadly Faturrohman - 152017076\n",
    "# Pemrograman Simulasi\n",
    "\n",
    "import numpy as np\n",
    "import matplotlib.pyplot as plt\n",
    "import pandas as pd"
   ]
  },
  {
   "cell_type": "code",
   "execution_count": 6,
   "id": "eight-pocket",
   "metadata": {},
   "outputs": [
    {
     "data": {
      "text/html": [
       "<div>\n",
       "<style scoped>\n",
       "    .dataframe tbody tr th:only-of-type {\n",
       "        vertical-align: middle;\n",
       "    }\n",
       "\n",
       "    .dataframe tbody tr th {\n",
       "        vertical-align: top;\n",
       "    }\n",
       "\n",
       "    .dataframe thead th {\n",
       "        text-align: right;\n",
       "    }\n",
       "</style>\n",
       "<table border=\"1\" class=\"dataframe\">\n",
       "  <thead>\n",
       "    <tr style=\"text-align: right;\">\n",
       "      <th></th>\n",
       "      <th>Medical_expenses</th>\n",
       "      <th>Age</th>\n",
       "    </tr>\n",
       "  </thead>\n",
       "  <tbody>\n",
       "    <tr>\n",
       "      <th>0</th>\n",
       "      <td>100</td>\n",
       "      <td>15</td>\n",
       "    </tr>\n",
       "    <tr>\n",
       "      <th>1</th>\n",
       "      <td>135</td>\n",
       "      <td>20</td>\n",
       "    </tr>\n",
       "    <tr>\n",
       "      <th>2</th>\n",
       "      <td>135</td>\n",
       "      <td>25</td>\n",
       "    </tr>\n",
       "    <tr>\n",
       "      <th>3</th>\n",
       "      <td>150</td>\n",
       "      <td>37</td>\n",
       "    </tr>\n",
       "    <tr>\n",
       "      <th>4</th>\n",
       "      <td>250</td>\n",
       "      <td>40</td>\n",
       "    </tr>\n",
       "    <tr>\n",
       "      <th>5</th>\n",
       "      <td>270</td>\n",
       "      <td>45</td>\n",
       "    </tr>\n",
       "    <tr>\n",
       "      <th>6</th>\n",
       "      <td>290</td>\n",
       "      <td>48</td>\n",
       "    </tr>\n",
       "    <tr>\n",
       "      <th>7</th>\n",
       "      <td>360</td>\n",
       "      <td>50</td>\n",
       "    </tr>\n",
       "    <tr>\n",
       "      <th>8</th>\n",
       "      <td>375</td>\n",
       "      <td>55</td>\n",
       "    </tr>\n",
       "    <tr>\n",
       "      <th>9</th>\n",
       "      <td>400</td>\n",
       "      <td>61</td>\n",
       "    </tr>\n",
       "    <tr>\n",
       "      <th>10</th>\n",
       "      <td>500</td>\n",
       "      <td>64</td>\n",
       "    </tr>\n",
       "    <tr>\n",
       "      <th>11</th>\n",
       "      <td>1000</td>\n",
       "      <td>67</td>\n",
       "    </tr>\n",
       "    <tr>\n",
       "      <th>12</th>\n",
       "      <td>1500</td>\n",
       "      <td>70</td>\n",
       "    </tr>\n",
       "  </tbody>\n",
       "</table>\n",
       "</div>"
      ],
      "text/plain": [
       "    Medical_expenses  Age\n",
       "0                100   15\n",
       "1                135   20\n",
       "2                135   25\n",
       "3                150   37\n",
       "4                250   40\n",
       "5                270   45\n",
       "6                290   48\n",
       "7                360   50\n",
       "8                375   55\n",
       "9                400   61\n",
       "10               500   64\n",
       "11              1000   67\n",
       "12              1500   70"
      ]
     },
     "execution_count": 6,
     "metadata": {},
     "output_type": "execute_result"
    }
   ],
   "source": [
    "data = pd.read_csv(\"data2.csv\", sep=';')\n",
    "data"
   ]
  },
  {
   "cell_type": "code",
   "execution_count": 7,
   "id": "renewable-pencil",
   "metadata": {},
   "outputs": [
    {
     "data": {
      "image/png": "[encoded data removed]",
      "text/plain": [
       "<Figure size 432x288 with 1 Axes>"
      ]
     },
     "metadata": {
      "needs_background": "light"
     },
     "output_type": "display_data"
    }
   ],
   "source": [
    "data.plot(kind='scatter', x='Medical_expenses', y='Age')\n",
    "plt.show()"
   ]
  },
  {
   "cell_type": "code",
   "execution_count": 8,
   "id": "appointed-pixel",
   "metadata": {},
   "outputs": [
    {
     "data": {
      "image/png": "[encoded data removed]",
      "text/plain": [
       "<Figure size 432x288 with 1 Axes>"
      ]
     },
     "metadata": {
      "needs_background": "light"
     },
     "output_type": "display_data"
    }
   ],
   "source": [
    "data.plot(kind='box')\n",
    "plt.show()"
   ]
  },
  {
   "cell_type": "code",
   "execution_count": 9,
   "id": "adapted-publisher",
   "metadata": {},
   "outputs": [
    {
     "name": "stdout",
     "output_type": "stream",
     "text": [
      "[ 100  135  135  150  250  270  290  360  375  400  500 1000 1500]\n",
      "[15 20 25 37 40 45 48 50 55 61 64 67 70]\n"
     ]
    }
   ],
   "source": [
    "#x = data.as_matrix(columns=data.columns[1:])\n",
    "x = data[\"Medical_expenses\"].to_numpy()\n",
    "y = data[\"Age\"].to_numpy()\n",
    "n = np.size(x)\n",
    "print(x)\n",
    "print(y)"
   ]
  },
  {
   "cell_type": "code",
   "execution_count": 10,
   "id": "returning-massachusetts",
   "metadata": {},
   "outputs": [
    {
     "name": "stdout",
     "output_type": "stream",
     "text": [
      "(Σx) =  5465 \n",
      "(Σy) =  597\n",
      "(Σx²) =  4218675 \n",
      "(Σy²) =  31279\n",
      "(Σxy) =  316220\n",
      "(Σy)(Σx²) =  2518548975\n",
      "(Σx)(Σxy) =  1728142300\n",
      "(Σy)(Σx²) – (Σx)(Σxy) =  790406675\n"
     ]
    }
   ],
   "source": [
    "# (Σy) (Σx²) – (Σx) (Σxy)\n",
    "\n",
    "sum_x, sum_y = np.sum(x), np.sum(y)\n",
    "print('(Σx) = ',sum_x, '\\n(Σy) = ',sum_y)\n",
    "\n",
    "pgkt_x= np.sum(np.square(x))\n",
    "pgkt_y= np.sum(np.square(y))\n",
    "print('(Σx²) = ', pgkt_x,'\\n(Σy²) = ',pgkt_y)\n",
    "\n",
    "sum_xy = np.sum(np.multiply(x,y))\n",
    "print('(Σxy) = ', sum_xy)\n",
    "\n",
    "print('(Σy)(Σx²) = ',sum_y*pgkt_x)\n",
    "print('(Σx)(Σxy) = ',sum_x*sum_xy)\n",
    "print('(Σy)(Σx²) – (Σx)(Σxy) = ',sum_y*pgkt_x-sum_x*sum_xy)"
   ]
  },
  {
   "cell_type": "code",
   "execution_count": 11,
   "id": "painful-bibliography",
   "metadata": {},
   "outputs": [
    {
     "name": "stdout",
     "output_type": "stream",
     "text": [
      "n(Σx²) =  54842775\n",
      "(Σx)² =  29866225\n",
      "n(Σx²)–(Σx)² =  24976550\n"
     ]
    }
   ],
   "source": [
    "# n(Σx²) – (Σx)²\n",
    "\n",
    "sum_nX2 = n*pgkt_x\n",
    "print('n(Σx²) = ', sum_nX2)\n",
    "\n",
    "sum_x2 = np.square(sum_x)\n",
    "print('(Σx)² = ', sum_x2)\n",
    "print('n(Σx²)–(Σx)² = ',sum_nX2-sum_x2)"
   ]
  },
  {
   "cell_type": "code",
   "execution_count": 12,
   "id": "canadian-delhi",
   "metadata": {},
   "outputs": [
    {
     "name": "stdout",
     "output_type": "stream",
     "text": [
      "a = (Σy) (Σx²) – (Σx) (Σxy) / n(Σx²) – (Σx)²\n",
      "a =  31.645950901946026\n"
     ]
    }
   ],
   "source": [
    "# a = (Σy) (Σx²) – (Σx) (Σxy) / n(Σx²) – (Σx)²\n",
    "\n",
    "x1 = sum_y*pgkt_x\n",
    "x2 = sum_x*sum_xy\n",
    "x3 = x1-x2\n",
    "x4 = sum_nX2-sum_x2\n",
    "\n",
    "a_2 = (sum_y*pgkt_x - sum_x*sum_xy) / (sum_nX2-sum_x2)\n",
    "# a = (x3/x4)\n",
    "print('a = (Σy) (Σx²) – (Σx) (Σxy) / n(Σx²) – (Σx)²')\n",
    "print('a = ', a_2)"
   ]
  },
  {
   "cell_type": "code",
   "execution_count": 13,
   "id": "meaning-expense",
   "metadata": {},
   "outputs": [
    {
     "name": "stdout",
     "output_type": "stream",
     "text": [
      "n(Σxy) =  4110860 \n",
      "(Σx)(Σy) =  3262605\n",
      "n(Σxy) – (Σx) (Σy) =  848255\n"
     ]
    }
   ],
   "source": [
    "# n(Σxy) – (Σx) (Σy)\n",
    "\n",
    "b_x1 = n*sum_xy\n",
    "b_x2 = sum_x*sum_y\n",
    "\n",
    "print('n(Σxy) = ', b_x1, '\\n(Σx)(Σy) = ',b_x2)\n",
    "print('n(Σxy) – (Σx) (Σy) = ',b_x1-b_x2)"
   ]
  },
  {
   "cell_type": "code",
   "execution_count": 14,
   "id": "frequent-zimbabwe",
   "metadata": {},
   "outputs": [
    {
     "name": "stdout",
     "output_type": "stream",
     "text": [
      "n(Σx) =  71045 \n",
      "(Σx)² =  29866225\n",
      "n(Σx) – (Σx)² =  -29795180\n"
     ]
    }
   ],
   "source": [
    "# n(Σx) – (Σx)²\n",
    "b_x3 = n*sum_x\n",
    "b_x4 = np.square(sum_x)\n",
    "\n",
    "b_x5 = n*pgkt_x\n",
    "print('n(Σx) = ',b_x3,'\\n(Σx)² = ', b_x4)\n",
    "print('n(Σx) – (Σx)² = ', b_x3-b_x4 )"
   ]
  },
  {
   "cell_type": "code",
   "execution_count": 15,
   "id": "norwegian-league",
   "metadata": {},
   "outputs": [
    {
     "name": "stdout",
     "output_type": "stream",
     "text": [
      "b =  -0.02846953769032441\n",
      "Model Regresi : Y = a + b * x =  31.645950901946026 + -0.02846953769032441 *x\n"
     ]
    }
   ],
   "source": [
    "# b = n(Σxy) – (Σx) (Σy) / n(Σx) – (Σx)²\n",
    "\n",
    "b = (b_x1 - b_x2)/(b_x3 - b_x4)\n",
    "print('b = ',b)\n",
    "\n",
    "print('Model Regresi : Y = a + b * x = ',a_2,'+',b,'*x')"
   ]
  },
  {
   "cell_type": "code",
   "execution_count": 16,
   "id": "musical-winter",
   "metadata": {},
   "outputs": [
    {
     "data": {
      "image/png": "[encoded data removed]",
      "text/plain": [
       "<Figure size 432x288 with 1 Axes>"
      ]
     },
     "metadata": {
      "needs_background": "light"
     },
     "output_type": "display_data"
    }
   ],
   "source": [
    "# plotting the actual points as scatter plot \n",
    "plt.scatter(x, y, color = \"m\", \n",
    "           marker = \"o\", s = 30) \n",
    "\n",
    "# predicted response vector \n",
    "y_pred = a_2 + b*x \n",
    "\n",
    "# plotting the regression line \n",
    "plt.plot(x, y_pred, color = \"g\") \n",
    "\n",
    "# putting labels \n",
    "plt.xlabel('medical expenses') \n",
    "plt.ylabel('age') \n",
    "\n",
    "# function to show plot \n",
    "plt.show() "
   ]
  },
  {
   "cell_type": "code",
   "execution_count": 29,
   "id": "joined-thermal",
   "metadata": {},
   "outputs": [
    {
     "name": "stdout",
     "output_type": "stream",
     "text": [
      "nΣXiYi-(Σxi)(Σyi) =  848255\n",
      "(nΣXi^2-(ΣXi)^2) =  24976550\n",
      "(nΣYi^2-(Σyi)^2) =  50218\n",
      "(nΣXi^2-(ΣXi)^2)(nΣYi^2 - (Σyi)^2) =  1254272387900\n",
      "√(nΣXi^2-(ΣXi)^2)(nΣYi^2 - (Σyi)^2) =  1119943.0288635222\n",
      "r =  0.7574090629063325\n"
     ]
    }
   ],
   "source": [
    "# r = nΣXiYi - (Σxi)(Σyi) /√(nΣXi^2-(ΣXi)^2)(nΣYi^2 - (Σyi)^2)\n",
    "#       x1         x2          y1     y2       y3        y4\n",
    "x1 = b_x1\n",
    "x2 = b_x2\n",
    "y1 = sum_nX2\n",
    "y2 = sum_x2\n",
    "y3 = n*pgkt_y\n",
    "y4 = np.square(sum_y)\n",
    "\n",
    "x_tot = x1-x2\n",
    "print('nΣXiYi-(Σxi)(Σyi) = ',x_tot)\n",
    "print('(nΣXi^2-(ΣXi)^2) = ',y1-y2)\n",
    "print('(nΣYi^2-(Σyi)^2) = ',y3-y4)\n",
    "y_tot = (y1-y2)*(y3-y4)\n",
    "print('(nΣXi^2-(ΣXi)^2)(nΣYi^2 - (Σyi)^2) = ',y_tot)\n",
    "y_tot2 = np.sqrt(y_tot)\n",
    "print('√(nΣXi^2-(ΣXi)^2)(nΣYi^2 - (Σyi)^2) = ',y_tot2)\n",
    "\n",
    "r = x_tot/y_tot2\n",
    "print('r = ',r)\n",
    "\n"
   ]
  },
  {
   "cell_type": "code",
   "execution_count": 27,
   "id": "short-collector",
   "metadata": {},
   "outputs": [
    {
     "name": "stdout",
     "output_type": "stream",
     "text": [
      "0.5736684885726487\n"
     ]
    }
   ],
   "source": [
    "# koefisien determinasi\n",
    "\n",
    "koef = np.square(r)*1\n",
    "print(koef)"
   ]
  },
  {
   "cell_type": "code",
   "execution_count": 28,
   "id": "falling-bullet",
   "metadata": {},
   "outputs": [
    {
     "name": "stdout",
     "output_type": "stream",
     "text": [
      "0.42633151142735126\n"
     ]
    }
   ],
   "source": [
    "# 100% - Koefisien determinasion\n",
    "hasil = 1-koef\n",
    "\n",
    "print(hasil)"
   ]
  },
  {
   "cell_type": "code",
   "execution_count": null,
   "id": "threatened-madison",
   "metadata": {},
   "outputs": [],
   "source": []
  }
 ],
 "metadata": {
  "kernelspec": {
   "display_name": "Python 3",
   "language": "python",
   "name": "python3"
  },
  "language_info": {
   "codemirror_mode": {
    "name": "ipython",
    "version": 3
   },
   "file_extension": ".py",
   "mimetype": "text/x-python",
   "name": "python",
   "nbconvert_exporter": "python",
   "pygments_lexer": "ipython3",
   "version": "3.8.8"
  }
 },
 "nbformat": 4,
 "nbformat_minor": 5
}
